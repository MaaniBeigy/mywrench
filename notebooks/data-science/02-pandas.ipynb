{
 "cells": [
  {
   "attachments": {},
   "cell_type": "markdown",
   "metadata": {},
   "source": [
    "# Pandas"
   ]
  },
  {
   "attachments": {},
   "cell_type": "markdown",
   "metadata": {},
   "source": [
    "## Import Libraries"
   ]
  },
  {
   "cell_type": "code",
   "execution_count": 2,
   "metadata": {},
   "outputs": [],
   "source": [
    "import pandas as pd"
   ]
  },
  {
   "attachments": {},
   "cell_type": "markdown",
   "metadata": {},
   "source": [
    "## Series"
   ]
  },
  {
   "attachments": {},
   "cell_type": "markdown",
   "metadata": {},
   "source": [
    "**Pandas Series** is a *one-dimensional* labeled array that can hold data of any type (integer, string, float, python objects, etc.), similar to a column in an excel spreadsheet. The axis labels are collectively called **index**. "
   ]
  },
  {
   "cell_type": "code",
   "execution_count": 3,
   "metadata": {},
   "outputs": [
    {
     "name": "stdout",
     "output_type": "stream",
     "text": [
      "a    1\n",
      "b    2\n",
      "c    3\n",
      "dtype: int64\n"
     ]
    }
   ],
   "source": [
    "print(pd.Series([1, 2, 3], index=['a', 'b', 'c'])) # with index"
   ]
  },
  {
   "cell_type": "code",
   "execution_count": 4,
   "metadata": {},
   "outputs": [
    {
     "name": "stdout",
     "output_type": "stream",
     "text": [
      "a    1\n",
      "b    2\n",
      "c    3\n",
      "dtype: int64\n"
     ]
    }
   ],
   "source": [
    "print(pd.Series({'a': 1, 'b': 2, 'c':3})) # from a dict"
   ]
  },
  {
   "attachments": {},
   "cell_type": "markdown",
   "metadata": {},
   "source": [
    "If we don’t specify the index, by default, the index would be the integer positions starting from 0. "
   ]
  },
  {
   "attachments": {},
   "cell_type": "markdown",
   "metadata": {},
   "source": [
    "In a Series, we can access the value by its index directly:"
   ]
  },
  {
   "cell_type": "code",
   "execution_count": 5,
   "metadata": {},
   "outputs": [
    {
     "name": "stdout",
     "output_type": "stream",
     "text": [
      "1\n"
     ]
    }
   ],
   "source": [
    "series = pd.Series({'a': 1, 'b': 2, 'c':3})\n",
    "print(series['a'])"
   ]
  },
  {
   "attachments": {},
   "cell_type": "markdown",
   "metadata": {},
   "source": [
    "Think of Series as numpy 1darray with index or row names."
   ]
  },
  {
   "attachments": {},
   "cell_type": "markdown",
   "metadata": {},
   "source": [
    "## DataFrames"
   ]
  },
  {
   "attachments": {},
   "cell_type": "markdown",
   "metadata": {},
   "source": [
    "DataFrames are 2darrays with both row and column labels."
   ]
  },
  {
   "cell_type": "code",
   "execution_count": 6,
   "metadata": {},
   "outputs": [
    {
     "name": "stdout",
     "output_type": "stream",
     "text": [
      "         red_wine  white_wine\n",
      "adam            3           5\n",
      "bob             6           0\n",
      "charles         5          10\n"
     ]
    }
   ],
   "source": [
    "wine_dict = {\n",
    "    'red_wine': [3, 6, 5],\n",
    "    'white_wine':[5, 0, 10]\n",
    "}\n",
    "sales = pd.DataFrame(wine_dict, index=[\"adam\", \"bob\", \"charles\"])\n",
    "print(sales)"
   ]
  },
  {
   "attachments": {},
   "cell_type": "markdown",
   "metadata": {},
   "source": [
    "Think of `DataFrame` as a collection of the Series. Here, sales consists of two `Series`, one named under \"red_wine\", the other \"white_wine\", thus, we can access each series by calling its name:"
   ]
  },
  {
   "cell_type": "code",
   "execution_count": 7,
   "metadata": {},
   "outputs": [
    {
     "name": "stdout",
     "output_type": "stream",
     "text": [
      "adam        5\n",
      "bob         0\n",
      "charles    10\n",
      "Name: white_wine, dtype: int64\n"
     ]
    }
   ],
   "source": [
    "print(sales['white_wine'])"
   ]
  },
  {
   "attachments": {},
   "cell_type": "markdown",
   "metadata": {},
   "source": [
    "If we don’t supply index, the DataFrame will generate an integer index starting from 0."
   ]
  },
  {
   "attachments": {},
   "cell_type": "markdown",
   "metadata": {},
   "source": [
    "### Inspect a DataFrame - Shape and Size"
   ]
  },
  {
   "cell_type": "code",
   "execution_count": 8,
   "metadata": {},
   "outputs": [],
   "source": [
    "presidents_df = pd.read_csv(\n",
    "    'https://sololearn.com/uploads/files/president_heights_party.csv',\n",
    "    index_col='name'\n",
    ")"
   ]
  },
  {
   "cell_type": "code",
   "execution_count": 9,
   "metadata": {},
   "outputs": [
    {
     "name": "stdout",
     "output_type": "stream",
     "text": [
      "(45, 4)\n"
     ]
    }
   ],
   "source": [
    "print(presidents_df.shape)"
   ]
  },
  {
   "attachments": {},
   "cell_type": "markdown",
   "metadata": {},
   "source": [
    "There are 45 rows and 4 columns in this DataFrame. To get the number of rows we can access the first element in the tuple."
   ]
  },
  {
   "cell_type": "code",
   "execution_count": 10,
   "metadata": {},
   "outputs": [
    {
     "name": "stdout",
     "output_type": "stream",
     "text": [
      "Number of rows: 45\n"
     ]
    }
   ],
   "source": [
    "print(\"Number of rows:\", presidents_df.shape[0])"
   ]
  },
  {
   "attachments": {},
   "cell_type": "markdown",
   "metadata": {},
   "source": [
    "`size` also works on DataFrame to return an integer representing the number of elements in this object."
   ]
  },
  {
   "cell_type": "code",
   "execution_count": 11,
   "metadata": {},
   "outputs": [
    {
     "name": "stdout",
     "output_type": "stream",
     "text": [
      "180\n"
     ]
    }
   ],
   "source": [
    "print(presidents_df.size)"
   ]
  },
  {
   "attachments": {},
   "cell_type": "markdown",
   "metadata": {},
   "source": [
    "Here both methods. .shape and .size, work in the same way as with numpy ndarrays."
   ]
  },
  {
   "attachments": {},
   "cell_type": "markdown",
   "metadata": {},
   "source": [
    "### Inspect a DataFrame - Head and Tail"
   ]
  },
  {
   "attachments": {},
   "cell_type": "markdown",
   "metadata": {},
   "source": [
    "To see **the first few lines** in a DataFrame, use `.head()`; if we don’t specify `n` (the number of lines), by default, it displays the first five rows. Here we want to see the top 3 rows."
   ]
  },
  {
   "cell_type": "code",
   "execution_count": 13,
   "metadata": {},
   "outputs": [
    {
     "name": "stdout",
     "output_type": "stream",
     "text": [
      "                   order  age  height                  party\n",
      "name                                                        \n",
      "George Washington      1   57     189                   none\n",
      "John Adams             2   61     170             federalist\n",
      "Thomas Jefferson       3   57     189  democratic-republican\n"
     ]
    }
   ],
   "source": [
    "print(presidents_df.head(n=3))"
   ]
  },
  {
   "attachments": {},
   "cell_type": "markdown",
   "metadata": {},
   "source": [
    "In presidents_df, the index is the name of the president, there are four columns: **order**, **age**, **height**, and **party**. Similarly, if we want to see **the last few rows**, we can use `.tail()`, the default is also five rows."
   ]
  },
  {
   "cell_type": "code",
   "execution_count": 14,
   "metadata": {},
   "outputs": [
    {
     "name": "stdout",
     "output_type": "stream",
     "text": [
      "                   order  age  height       party\n",
      "name                                             \n",
      "George H. W. Bush     41   64     188  republican\n",
      "Bill Clinton          42   46     188  democratic\n",
      "George W. Bush        43   54     182  republican\n",
      "Barack Obama          44   47     185  democratic\n",
      "Donald J. Trump       45   70     191  republican\n"
     ]
    }
   ],
   "source": [
    "print(presidents_df.tail())"
   ]
  },
  {
   "attachments": {},
   "cell_type": "markdown",
   "metadata": {},
   "source": [
    "### Inspect a DataFrame - Info"
   ]
  },
  {
   "attachments": {},
   "cell_type": "markdown",
   "metadata": {},
   "source": [
    "Use `.info()` to get an overview of the DataFrame. Its output includes **index**, **column names**, **count of non-null values**, **dtypes**, and **memory usage**."
   ]
  },
  {
   "cell_type": "code",
   "execution_count": 15,
   "metadata": {},
   "outputs": [
    {
     "name": "stdout",
     "output_type": "stream",
     "text": [
      "<class 'pandas.core.frame.DataFrame'>\n",
      "Index: 45 entries, George Washington to Donald J. Trump\n",
      "Data columns (total 4 columns):\n",
      " #   Column  Non-Null Count  Dtype \n",
      "---  ------  --------------  ----- \n",
      " 0   order   45 non-null     int64 \n",
      " 1   age     45 non-null     int64 \n",
      " 2   height  45 non-null     int64 \n",
      " 3   party   45 non-null     object\n",
      "dtypes: int64(3), object(1)\n",
      "memory usage: 1.8+ KB\n"
     ]
    }
   ],
   "source": [
    "presidents_df.info()"
   ]
  },
  {
   "attachments": {},
   "cell_type": "markdown",
   "metadata": {},
   "source": [
    "The dtype for order, age, and height is integers, while party is an object. The count of non-null values in each column is the same as the number of rows, indicating no missing values. "
   ]
  }
 ],
 "metadata": {
  "kernelspec": {
   "display_name": "Python 3",
   "language": "python",
   "name": "python3"
  },
  "language_info": {
   "codemirror_mode": {
    "name": "ipython",
    "version": 3
   },
   "file_extension": ".py",
   "mimetype": "text/x-python",
   "name": "python",
   "nbconvert_exporter": "python",
   "pygments_lexer": "ipython3",
   "version": "3.8.10"
  },
  "orig_nbformat": 4
 },
 "nbformat": 4,
 "nbformat_minor": 2
}

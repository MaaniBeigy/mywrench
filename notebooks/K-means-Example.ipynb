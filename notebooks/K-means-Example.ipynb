{
 "cells": [
  {
   "cell_type": "markdown",
   "source": [
    "Clustering (or cluster analysis) is a technique that allows us to find groups of similar objects, objects that are more related to each other than to objects in other groups. Examples of business-oriented applications of clustering include the grouping of documents, music, and movies by different topics, or finding customers that share similar interests based on common purchase behaviors as a basis for recommendation engines.\r\n",
    "\r\n",
    "In this tutorial, we will learn about one of the most popular clustering algorithms, k-means, which is widely used in academia as well as in industry."
   ],
   "metadata": {}
  },
  {
   "cell_type": "markdown",
   "source": [
    "The KMeans algorithm clusters data by trying to separate samples in n groups of equal variance, minimizing a criterion known as the inertia or within-cluster sum-of-squares (see below). This algorithm requires the number of clusters to be specified. It scales well to large number of samples and has been used across a large range of application areas in many different fields.\r\n",
    "\r\n",
    "The k-means algorithm divides a set of\r\n",
    "N samples X into K disjoint clusters , each described by the mean\r\n",
    "of the samples in the cluster. The means are commonly called the cluster “centroids”; note that they are not, in general, points from\r\n",
    "\r\n",
    ", although they live in the same space.\r\n",
    "\r\n",
    "The K-means algorithm aims to choose centroids that minimise the inertia, or within-cluster sum-of-squares criterion:\r\n",
    "\r\n",
    "$\\sum_{i=0}^{n}\\min_{\\mu_j \\in C}(||x_i - \\mu_j||^2)\r\n"
   ],
   "metadata": {}
  }
 ],
 "metadata": {
  "orig_nbformat": 4,
  "language_info": {
   "name": "plaintext"
  }
 },
 "nbformat": 4,
 "nbformat_minor": 2
}
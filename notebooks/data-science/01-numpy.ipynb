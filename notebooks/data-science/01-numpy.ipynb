{
 "cells": [
  {
   "attachments": {},
   "cell_type": "markdown",
   "metadata": {},
   "source": [
    "# Numpy"
   ]
  },
  {
   "attachments": {},
   "cell_type": "markdown",
   "metadata": {},
   "source": [
    "## Import Libraries"
   ]
  },
  {
   "cell_type": "code",
   "execution_count": 3,
   "metadata": {},
   "outputs": [],
   "source": [
    "import numpy as np  # Numerical Python"
   ]
  },
  {
   "cell_type": "code",
   "execution_count": 1,
   "metadata": {},
   "outputs": [],
   "source": [
    "presidents_heights = [\n",
    "    189, 170, 189, 163, 183, 171, 185, 168, 173, 183, 173, 173, 175, 178, 183, 193, 178, 173, 174, 183, 183, 180,\n",
    "    168, 180, 170, 178, 182, 180, 183, 178, 182, 188, 175, 179, 183, 193, 182, 183, 177, 185, 188, 188, 182, 185, 191\n",
    "]"
   ]
  },
  {
   "attachments": {},
   "cell_type": "markdown",
   "metadata": {},
   "source": [
    "how many presidents are taller than 188cm?"
   ]
  },
  {
   "cell_type": "code",
   "execution_count": 2,
   "metadata": {},
   "outputs": [
    {
     "name": "stdout",
     "output_type": "stream",
     "text": [
      "5\n"
     ]
    }
   ],
   "source": [
    "cnt = 0\n",
    "for height in presidents_heights:\n",
    "    if height > 188:\n",
    "        cnt +=1\n",
    "print(cnt)"
   ]
  },
  {
   "attachments": {},
   "cell_type": "markdown",
   "metadata": {},
   "source": [
    "numpy way:"
   ]
  },
  {
   "cell_type": "code",
   "execution_count": 5,
   "metadata": {},
   "outputs": [
    {
     "name": "stdout",
     "output_type": "stream",
     "text": [
      "5\n"
     ]
    }
   ],
   "source": [
    "\n",
    "heights_arr = np.array(presidents_heights)\n",
    "print((heights_arr > 188).sum())"
   ]
  },
  {
   "attachments": {},
   "cell_type": "markdown",
   "metadata": {},
   "source": [
    "An array class in Numpy is called an `ndarray` or **n-dimensional array**:"
   ]
  },
  {
   "cell_type": "code",
   "execution_count": 7,
   "metadata": {},
   "outputs": [
    {
     "name": "stdout",
     "output_type": "stream",
     "text": [
      "<class 'numpy.ndarray'>\n"
     ]
    }
   ],
   "source": [
    "print(type(heights_arr))"
   ]
  },
  {
   "attachments": {},
   "cell_type": "markdown",
   "metadata": {},
   "source": [
    "## Size and Shape"
   ]
  },
  {
   "cell_type": "code",
   "execution_count": 6,
   "metadata": {},
   "outputs": [
    {
     "name": "stdout",
     "output_type": "stream",
     "text": [
      "45\n"
     ]
    }
   ],
   "source": [
    "print(heights_arr.size)"
   ]
  },
  {
   "attachments": {},
   "cell_type": "markdown",
   "metadata": {},
   "source": [
    "Attribute `size` in numpy is similar to the built-in method `len` in python that is used to compute the length of iterable python objects like str, list, dict, etc."
   ]
  },
  {
   "cell_type": "code",
   "execution_count": 10,
   "metadata": {},
   "outputs": [
    {
     "name": "stdout",
     "output_type": "stream",
     "text": [
      "45\n"
     ]
    }
   ],
   "source": [
    "print(len(heights_arr))"
   ]
  },
  {
   "attachments": {},
   "cell_type": "markdown",
   "metadata": {},
   "source": [
    "Shape tells us the dimension:"
   ]
  },
  {
   "cell_type": "code",
   "execution_count": 9,
   "metadata": {},
   "outputs": [
    {
     "name": "stdout",
     "output_type": "stream",
     "text": [
      "(45,)\n"
     ]
    }
   ],
   "source": [
    "print(heights_arr.shape)"
   ]
  },
  {
   "attachments": {},
   "cell_type": "markdown",
   "metadata": {},
   "source": [
    "The output is a **tuple**, recall that the built-in data type tuple is immutable whereas a list is mutable, containing a single value, indicating that there is only one dimension, i.e., axis 0. Along axis 0, there are 45 elements (one for each president) Here, heights_arr is a 1d array. "
   ]
  },
  {
   "attachments": {},
   "cell_type": "markdown",
   "metadata": {},
   "source": [
    "## Reshape"
   ]
  },
  {
   "cell_type": "code",
   "execution_count": 11,
   "metadata": {},
   "outputs": [],
   "source": [
    "presidents_ages = [\n",
    "    57, 61, 57, 57, 58, 57, 61, 54, 68, 51, 49, 64, 50, 48, 65, 52, 56, 46,\n",
    "    54, 49, 51, 47, 55, 55, 54, 42, 51, 56, 55, 51, 54, 51, 60, 62, 43, 55,\n",
    "    56, 61, 52, 69, 64, 46, 54, 47, 70\n",
    "]"
   ]
  },
  {
   "cell_type": "code",
   "execution_count": 12,
   "metadata": {},
   "outputs": [
    {
     "name": "stdout",
     "output_type": "stream",
     "text": [
      "(90,)\n"
     ]
    }
   ],
   "source": [
    "heights_and_ages = presidents_heights + presidents_ages \n",
    "# convert a list to a numpy array\n",
    "heights_and_ages_arr = np.array(heights_and_ages)\n",
    "print(heights_and_ages_arr.shape)"
   ]
  },
  {
   "attachments": {},
   "cell_type": "markdown",
   "metadata": {},
   "source": [
    "This produces one long array. It would be clearer if we could align height and age for each president and reorganize the data into a 2 by 45 matrix where the first row contains all heights and the second row contains ages. To achieve this, a new array can be created by calling `numpy.ndarray.reshape` with new dimensions specified in a tuple:"
   ]
  },
  {
   "cell_type": "code",
   "execution_count": 21,
   "metadata": {},
   "outputs": [],
   "source": [
    "heights_and_ages_arr = heights_and_ages_arr.reshape((2,45))"
   ]
  },
  {
   "cell_type": "code",
   "execution_count": 22,
   "metadata": {},
   "outputs": [
    {
     "name": "stdout",
     "output_type": "stream",
     "text": [
      "[[189 170 189 163 183 171 185 168 173 183 173 173 175 178 183 193 178 173\n",
      "  174 183 183 180 168 180 170 178 182 180 183 178 182 188 175 179 183 193\n",
      "  182 183 177 185 188 188 182 185 191]\n",
      " [ 57  61  57  57  58  57  61  54  68  51  49  64  50  48  65  52  56  46\n",
      "   54  49  51  47  55  55  54  42  51  56  55  51  54  51  60  62  43  55\n",
      "   56  61  52  69  64  46  54  47  70]]\n"
     ]
    }
   ],
   "source": [
    "print(heights_and_ages_arr)"
   ]
  },
  {
   "attachments": {},
   "cell_type": "markdown",
   "metadata": {},
   "source": [
    "Numpy can calculate the shape (dimension) for us if we indicate the unknown dimension as -1. For example, given a 2darray `arr` of shape (3,4), arr.reshape(-1) would output a 1darray of shape (12,), while arr.reshape((-1,2)) would generate a 2darray of shape (6,2)."
   ]
  },
  {
   "attachments": {},
   "cell_type": "markdown",
   "metadata": {},
   "source": [
    "## Data Type"
   ]
  },
  {
   "attachments": {},
   "cell_type": "markdown",
   "metadata": {},
   "source": [
    "Another characteristic about numpy array is that it is **homogeneous**, meaning each element must be of the same data type."
   ]
  },
  {
   "cell_type": "code",
   "execution_count": 14,
   "metadata": {},
   "outputs": [
    {
     "name": "stdout",
     "output_type": "stream",
     "text": [
      "int64\n"
     ]
    }
   ],
   "source": [
    "print(heights_arr.dtype)"
   ]
  },
  {
   "attachments": {},
   "cell_type": "markdown",
   "metadata": {},
   "source": [
    "### Type coercion"
   ]
  },
  {
   "cell_type": "code",
   "execution_count": 17,
   "metadata": {},
   "outputs": [
    {
     "name": "stdout",
     "output_type": "stream",
     "text": [
      "[189. 170. 189. 163. 183. 171. 185. 168. 173. 183. 173. 173. 175. 178.\n",
      " 183. 193. 178. 173. 174. 183. 183. 180. 168. 180. 170. 178. 182. 180.\n",
      " 183. 178. 182. 188. 175. 179. 183. 193. 182. 183. 177. 185. 188. 188.\n",
      " 182. 185. 191.]\n",
      "\n",
      "\n",
      "Type of heights_float_arr: float64\n"
     ]
    }
   ],
   "source": [
    "heights_float = [\n",
    "    189.0,  # we mixed a float number in\n",
    "    170, 189, 163, 183, 171, 185, 168, 173, 183, 173, 173, 175, 178, 183,\n",
    "    193, 178, 173, 174, 183, 183, 180, 168, 180, 170, 178, 182, 180, 183, 178, 182,\n",
    "    188, 175, 179, 183, 193, 182, 183, 177, 185, 188, 188, 182, 185, 191\n",
    "]\n",
    "heights_float_arr = np.array(heights_float)\n",
    "print(heights_float_arr)\n",
    "print(\"\\n\")\n",
    "print(\"Type of heights_float_arr:\", heights_float_arr.dtype)"
   ]
  },
  {
   "attachments": {},
   "cell_type": "markdown",
   "metadata": {},
   "source": [
    "Numpy supports several data types such as `int` (integer), `float` (numeric floating point), and `bool` (boolean values, True and False). The number after the data type, ex. `int64`, represents the **bitsize** of the data type."
   ]
  },
  {
   "attachments": {},
   "cell_type": "markdown",
   "metadata": {},
   "source": [
    "## Indexing"
   ]
  },
  {
   "attachments": {},
   "cell_type": "markdown",
   "metadata": {},
   "source": [
    "We can use array indexing to select individual elements from arrays. Like Python lists, numpy **index starts from 0**."
   ]
  },
  {
   "attachments": {},
   "cell_type": "markdown",
   "metadata": {},
   "source": [
    "To access the height of the **3rd** president Thomas Jefferson in the 1darray `heights_arr`:"
   ]
  },
  {
   "cell_type": "code",
   "execution_count": 18,
   "metadata": {},
   "outputs": [
    {
     "name": "stdout",
     "output_type": "stream",
     "text": [
      "189\n"
     ]
    }
   ],
   "source": [
    "print(heights_arr[2])"
   ]
  },
  {
   "attachments": {},
   "cell_type": "markdown",
   "metadata": {},
   "source": [
    "In a **2darray**, there are two axes, axis 0 and 1. Axis 0 runs downward down the **rows** whereas axis 1 runs horizontally across the **columns**. "
   ]
  },
  {
   "attachments": {},
   "cell_type": "markdown",
   "metadata": {},
   "source": [
    "In the 2darrary heights_and_ages_arr, recall that its dimensions are (2, 45). To find Thomas Jefferson’s age at the beginning of his presidency you would need to access the second row where ages are stored:"
   ]
  },
  {
   "cell_type": "code",
   "execution_count": 23,
   "metadata": {},
   "outputs": [
    {
     "name": "stdout",
     "output_type": "stream",
     "text": [
      "57\n"
     ]
    }
   ],
   "source": [
    "print(heights_and_ages_arr[1,2])"
   ]
  },
  {
   "attachments": {},
   "cell_type": "markdown",
   "metadata": {},
   "source": [
    "In 2darray, the **row is axis 0** and the **column is axis 1**, therefore, to access a 2darray, numpy first looks for the position in rows, then in columns. So in our example heights_and_ages_arr[1,2], we are accessing row 2 (ages), column 3 (third president) to find Thomas Jefferson’s age."
   ]
  },
  {
   "attachments": {},
   "cell_type": "markdown",
   "metadata": {},
   "source": [
    "## Slicing"
   ]
  },
  {
   "attachments": {},
   "cell_type": "markdown",
   "metadata": {},
   "source": [
    "What if we want to inspect the **first three elements from the first row** in a 2darray? We use **\":\"** to select all the elements from the index **up to but not including the ending index**. This is called **slicing**:"
   ]
  },
  {
   "cell_type": "code",
   "execution_count": 24,
   "metadata": {},
   "outputs": [
    {
     "name": "stdout",
     "output_type": "stream",
     "text": [
      "[189 170 189]\n"
     ]
    }
   ],
   "source": [
    "print(heights_and_ages_arr[0, 0:3])"
   ]
  },
  {
   "attachments": {},
   "cell_type": "markdown",
   "metadata": {},
   "source": [
    "When the starting index is 0, we can omit it as shown below:"
   ]
  },
  {
   "cell_type": "code",
   "execution_count": 25,
   "metadata": {},
   "outputs": [
    {
     "name": "stdout",
     "output_type": "stream",
     "text": [
      "[189 170 189]\n"
     ]
    }
   ],
   "source": [
    "print(heights_and_ages_arr[0, :3])"
   ]
  },
  {
   "attachments": {},
   "cell_type": "markdown",
   "metadata": {},
   "source": [
    "What if we’d like to see **the entire fourth column**? Specify this by using a **\":\"** as follows:"
   ]
  },
  {
   "cell_type": "code",
   "execution_count": 27,
   "metadata": {},
   "outputs": [
    {
     "name": "stdout",
     "output_type": "stream",
     "text": [
      "[163  57]\n"
     ]
    }
   ],
   "source": [
    "print(heights_and_ages_arr[:, 3])"
   ]
  },
  {
   "attachments": {},
   "cell_type": "markdown",
   "metadata": {},
   "source": [
    "Numpy slicing syntax follows that of a python list: `arr[start:stop:step]`. When any of these are unspecified, they default to the values **start=0**, **stop=size of dimension**, **step=1**."
   ]
  },
  {
   "attachments": {},
   "cell_type": "markdown",
   "metadata": {},
   "source": [
    "## Assigning Single Values"
   ]
  },
  {
   "attachments": {},
   "cell_type": "markdown",
   "metadata": {},
   "source": [
    "Sometimes you need to change the values of particular elements in the array. For example, we noticed the fourth entry in the heights_arr was incorrect, it should be 165 instead of 163, we can re-assign the correct number by:"
   ]
  },
  {
   "cell_type": "code",
   "execution_count": 28,
   "metadata": {},
   "outputs": [
    {
     "name": "stdout",
     "output_type": "stream",
     "text": [
      "[189 170 189 165 183 171 185 168 173 183 173 173 175 178 183 193 178 173\n",
      " 174 183 183 180 168 180 170 178 182 180 183 178 182 188 175 179 183 193\n",
      " 182 183 177 185 188 188 182 185 191]\n"
     ]
    }
   ],
   "source": [
    "heights_arr[3] = 165\n",
    "print(heights_arr)"
   ]
  },
  {
   "attachments": {},
   "cell_type": "markdown",
   "metadata": {},
   "source": [
    "In a 2darray, single values can be assigned easily. You can use indexing for one element. For example, change the fourth entry in heights_arr to 165:"
   ]
  },
  {
   "cell_type": "code",
   "execution_count": 29,
   "metadata": {},
   "outputs": [
    {
     "name": "stdout",
     "output_type": "stream",
     "text": [
      "[[189 170 189 165 183 171 185 168 173 183 173 173 175 178 183 193 178 173\n",
      "  174 183 183 180 168 180 170 178 182 180 183 178 182 188 175 179 183 193\n",
      "  182 183 177 185 188 188 182 185 191]\n",
      " [ 57  61  57  57  58  57  61  54  68  51  49  64  50  48  65  52  56  46\n",
      "   54  49  51  47  55  55  54  42  51  56  55  51  54  51  60  62  43  55\n",
      "   56  61  52  69  64  46  54  47  70]]\n"
     ]
    }
   ],
   "source": [
    "heights_and_ages_arr[0, 3] = 165\n",
    "print(heights_and_ages_arr)"
   ]
  },
  {
   "attachments": {},
   "cell_type": "markdown",
   "metadata": {},
   "source": [
    "Or we can use slicing for multiple elements. For example, to replace the first row by its mean 180 in heights_and_ages_arr:"
   ]
  },
  {
   "cell_type": "code",
   "execution_count": 30,
   "metadata": {},
   "outputs": [
    {
     "name": "stdout",
     "output_type": "stream",
     "text": [
      "[[180 180 180 180 180 180 180 180 180 180 180 180 180 180 180 180 180 180\n",
      "  180 180 180 180 180 180 180 180 180 180 180 180 180 180 180 180 180 180\n",
      "  180 180 180 180 180 180 180 180 180]\n",
      " [ 57  61  57  57  58  57  61  54  68  51  49  64  50  48  65  52  56  46\n",
      "   54  49  51  47  55  55  54  42  51  56  55  51  54  51  60  62  43  55\n",
      "   56  61  52  69  64  46  54  47  70]]\n"
     ]
    }
   ],
   "source": [
    "heights_and_ages_arr[0,:] = 180\n",
    "print(heights_and_ages_arr)"
   ]
  },
  {
   "attachments": {},
   "cell_type": "markdown",
   "metadata": {},
   "source": [
    "We can also combine slicing to change any subset of the array. For example, to reassign 0 to the left upper corner:"
   ]
  },
  {
   "cell_type": "code",
   "execution_count": 31,
   "metadata": {},
   "outputs": [
    {
     "name": "stdout",
     "output_type": "stream",
     "text": [
      "[[  0   0 180 180 180 180 180 180 180 180 180 180 180 180 180 180 180 180\n",
      "  180 180 180 180 180 180 180 180 180 180 180 180 180 180 180 180 180 180\n",
      "  180 180 180 180 180 180 180 180 180]\n",
      " [  0   0  57  57  58  57  61  54  68  51  49  64  50  48  65  52  56  46\n",
      "   54  49  51  47  55  55  54  42  51  56  55  51  54  51  60  62  43  55\n",
      "   56  61  52  69  64  46  54  47  70]]\n"
     ]
    }
   ],
   "source": [
    "heights_and_ages_arr[:2, :2] = 0\n",
    "print(heights_and_ages_arr)"
   ]
  },
  {
   "attachments": {},
   "cell_type": "markdown",
   "metadata": {},
   "source": [
    "It is easy to update values in a subarray when you combine arrays with slicing. For more on basic slicing and advanced indexing in numpy check out this [link](https://numpy.org/doc/stable/reference/arrays.indexing.html)."
   ]
  },
  {
   "attachments": {},
   "cell_type": "markdown",
   "metadata": {},
   "source": [
    "## Assigning an Array to an Array"
   ]
  },
  {
   "attachments": {},
   "cell_type": "markdown",
   "metadata": {},
   "source": [
    "In addition, a 1darray or a 2darry can be assigned to a subset of another 2darray, as long as their shapes match. Recall the 2darray heights_and_ages_arr:"
   ]
  },
  {
   "attachments": {},
   "cell_type": "markdown",
   "metadata": {},
   "source": [
    "If we want to update both height and age of the first president with new data, we can supply the data in a list:"
   ]
  },
  {
   "cell_type": "code",
   "execution_count": 33,
   "metadata": {},
   "outputs": [
    {
     "name": "stdout",
     "output_type": "stream",
     "text": [
      "[[190 170 189 163 183 171 185 168 173 183 173 173 175 178 183 193 178 173\n",
      "  174 183 183 180 168 180 170 178 182 180 183 178 182 188 175 179 183 193\n",
      "  182 183 177 185 188 188 182 185 191]\n",
      " [ 58  61  57  57  58  57  61  54  68  51  49  64  50  48  65  52  56  46\n",
      "   54  49  51  47  55  55  54  42  51  56  55  51  54  51  60  62  43  55\n",
      "   56  61  52  69  64  46  54  47  70]]\n"
     ]
    }
   ],
   "source": [
    "\n",
    "heights = [189, 170, 189, 163, 183, 171, 185, 168, 173, 183, 173, 173, 175, 178, 183, 193, 178, 173, 174, 183, 183, 180, 168, 180, 170, 178, 182, 180, 183, 178, 182, 188, 175, 179, 183, 193, 182, 183, 177, 185, 188, 188, 182, 185, 191]\n",
    "\n",
    "ages = [57, 61, 57, 57, 58, 57, 61, 54, 68, 51, 49, 64, 50, 48, 65, 52, 56, 46, 54, 49, 51, 47, 55, 55, 54, 42, 51, 56, 55, 51, 54, 51, 60, 62, 43, 55, 56, 61, 52, 69, 64, 46, 54, 47, 70]\n",
    "\n",
    "heights_and_ages = heights + ages\n",
    "heights_and_ages_arr = np.array(heights_and_ages)\n",
    "heights_and_ages_arr = heights_and_ages_arr.reshape((2,45))\n",
    "\n",
    "heights_and_ages_arr[:, 0] = [190, 58]\n",
    "print(heights_and_ages_arr)"
   ]
  },
  {
   "attachments": {},
   "cell_type": "markdown",
   "metadata": {},
   "source": [
    "We can also update data in a subarray with a numpy array as such:"
   ]
  },
  {
   "cell_type": "code",
   "execution_count": 34,
   "metadata": {},
   "outputs": [
    {
     "name": "stdout",
     "output_type": "stream",
     "text": [
      "[[190 170 189 163 183 171 185 168 173 183 173 173 175 178 183 193 178 173\n",
      "  174 183 183 180 168 180 170 178 182 180 183 178 182 188 175 179 183 193\n",
      "  182 183 177 185 188 188 180 183 190]\n",
      " [ 58  61  57  57  58  57  61  54  68  51  49  64  50  48  65  52  56  46\n",
      "   54  49  51  47  55  55  54  42  51  56  55  51  54  51  60  62  43  55\n",
      "   56  61  52  69  64  46  54  50  69]]\n"
     ]
    }
   ],
   "source": [
    "new_record = np.array([[180, 183, 190], [54, 50, 69]])\n",
    "heights_and_ages_arr[:, 42:] = new_record\n",
    "print(heights_and_ages_arr)"
   ]
  },
  {
   "attachments": {},
   "cell_type": "markdown",
   "metadata": {},
   "source": [
    "Note the last three columns' values have changed. "
   ]
  },
  {
   "attachments": {},
   "cell_type": "markdown",
   "metadata": {},
   "source": [
    "## Combining Two Arrays"
   ]
  },
  {
   "attachments": {},
   "cell_type": "markdown",
   "metadata": {},
   "source": [
    "If we reshape the heights_arr to (45,1), the same as 'ages_arr', we can stack them horizontally (by column) to get a 2darray using `hstack`:"
   ]
  },
  {
   "cell_type": "code",
   "execution_count": 40,
   "metadata": {},
   "outputs": [
    {
     "name": "stdout",
     "output_type": "stream",
     "text": [
      "(45, 2)\n",
      "[[189  57]\n",
      " [170  61]\n",
      " [189  57]\n",
      " [163  57]\n",
      " [183  58]\n",
      " [171  57]\n",
      " [185  61]\n",
      " [168  54]\n",
      " [173  68]\n",
      " [183  51]]\n"
     ]
    }
   ],
   "source": [
    "heights = [\n",
    "    189, 170, 189, 163, 183, 171, 185, 168, 173, 183, 173, 173, 175, 178, 183, 193, 178, 173, 174, 183, 183, 180,\n",
    "    168, 180, 170, 178, 182, 180, 183, 178, 182, 188, 175, 179, 183, 193, 182, 183, 177, 185, 188, 188, 182, 185, 191\n",
    "]\n",
    "ages = [\n",
    "    57, 61, 57, 57, 58, 57, 61, 54, 68, 51, 49, 64, 50, 48, 65, 52, 56, 46, 54, 49, 51, 47,\n",
    "    55, 55, 54, 42, 51, 56, 55, 51, 54, 51, 60, 62, 43, 55, 56, 61, 52, 69, 64, 46, 54, 47, 70\n",
    "]\n",
    "\n",
    "heights_arr = np.array(heights)\n",
    "ages_arr = np.array(ages)\n",
    "\n",
    "heights_arr = heights_arr.reshape((45, 1))\n",
    "ages_arr = ages_arr.reshape((45, 1))\n",
    "\n",
    "height_age_arr = np.hstack((heights_arr, ages_arr))\n",
    "print(height_age_arr.shape)\n",
    "print(height_age_arr[:10,])\n"
   ]
  },
  {
   "attachments": {},
   "cell_type": "markdown",
   "metadata": {},
   "source": [
    "Similarly, if we want to combine the arrays vertically (by row), we can use `vstack`."
   ]
  },
  {
   "cell_type": "code",
   "execution_count": 37,
   "metadata": {},
   "outputs": [
    {
     "name": "stdout",
     "output_type": "stream",
     "text": [
      "(2, 45)\n",
      "[[189 170 189 163 183 171 185 168 173 183 173 173 175 178 183 193 178 173\n",
      "  174 183 183 180 168 180 170 178 182 180 183 178 182 188 175 179 183 193\n",
      "  182 183 177 185 188 188 182 185 191]\n",
      " [ 57  61  57  57  58  57  61  54  68  51  49  64  50  48  65  52  56  46\n",
      "   54  49  51  47  55  55  54  42  51  56  55  51  54  51  60  62  43  55\n",
      "   56  61  52  69  64  46  54  47  70]]\n"
     ]
    }
   ],
   "source": [
    "heights = [\n",
    "    189, 170, 189, 163, 183, 171, 185, 168, 173, 183, 173, 173, 175, 178, 183, 193, 178, 173, 174, 183, 183, 180,\n",
    "    168, 180, 170, 178, 182, 180, 183, 178, 182, 188, 175, 179, 183, 193, 182, 183, 177, 185, 188, 188, 182, 185, 191\n",
    "]\n",
    "ages = [\n",
    "    57, 61, 57, 57, 58, 57, 61, 54, 68, 51, 49, 64, 50, 48, 65, 52, 56, 46, 54, 49, 51, 47,\n",
    "    55, 55, 54, 42, 51, 56, 55, 51, 54, 51, 60, 62, 43, 55, 56, 61, 52, 69, 64, 46, 54, 47, 70\n",
    "]\n",
    "\n",
    "\n",
    "heights_arr = np.array(heights)\n",
    "ages_arr = np.array(ages)\n",
    "\n",
    "heights_arr = heights_arr.reshape((1,45))\n",
    "ages_arr = ages_arr.reshape((1,45))\n",
    "\n",
    "height_age_arr = np.vstack((heights_arr, ages_arr))\n",
    "print(height_age_arr.shape)\n",
    "print(height_age_arr)"
   ]
  },
  {
   "attachments": {},
   "cell_type": "markdown",
   "metadata": {},
   "source": [
    "## Concatenate"
   ]
  },
  {
   "attachments": {},
   "cell_type": "markdown",
   "metadata": {},
   "source": [
    "More generally, we can use the function `numpy.concatenate`. If we want to concatenate, link together, two arrays **along rows**, then pass `axis = 1` to achieve the same result as using `numpy.hstack`; and pass `axis = 0` if you want to combine arrays **vertically** like `numpy.vstack`. "
   ]
  },
  {
   "cell_type": "code",
   "execution_count": 42,
   "metadata": {},
   "outputs": [
    {
     "name": "stdout",
     "output_type": "stream",
     "text": [
      "(45, 2)\n",
      "[[189  57]\n",
      " [170  61]\n",
      " [189  57]\n",
      " [163  57]\n",
      " [183  58]\n",
      " [171  57]\n",
      " [185  61]\n",
      " [168  54]\n",
      " [173  68]\n",
      " [183  51]]\n"
     ]
    }
   ],
   "source": [
    "heights = [\n",
    "    189, 170, 189, 163, 183, 171, 185, 168, 173, 183, 173, 173, 175, 178, 183, 193, 178, 173, 174, 183, 183, 180,\n",
    "    168, 180, 170, 178, 182, 180, 183, 178, 182, 188, 175, 179, 183, 193, 182, 183, 177, 185, 188, 188, 182, 185, 191\n",
    "]\n",
    "ages = [\n",
    "    57, 61, 57, 57, 58, 57, 61, 54, 68, 51, 49, 64, 50, 48, 65, 52, 56, 46, 54, 49, 51, 47,\n",
    "    55, 55, 54, 42, 51, 56, 55, 51, 54, 51, 60, 62, 43, 55, 56, 61, 52, 69, 64, 46, 54, 47, 70\n",
    "]\n",
    "\n",
    "\n",
    "heights_arr = np.array(heights)\n",
    "ages_arr = np.array(ages)\n",
    "\n",
    "heights_arr = heights_arr.reshape((45,1))\n",
    "ages_arr = ages_arr.reshape((45,1))\n",
    "\n",
    "# height_age_arr = np.hstack((heights_arr, ages_arr))\n",
    "height_age_arr = np.concatenate((heights_arr, ages_arr), axis=1)\n",
    "\n",
    "print(height_age_arr.shape)\n",
    "print(height_age_arr[:10,])"
   ]
  },
  {
   "attachments": {},
   "cell_type": "markdown",
   "metadata": {},
   "source": [
    "## Operations"
   ]
  },
  {
   "attachments": {},
   "cell_type": "markdown",
   "metadata": {},
   "source": [
    "### Mathematical Operations on Arrays"
   ]
  },
  {
   "attachments": {},
   "cell_type": "markdown",
   "metadata": {},
   "source": [
    "Performing mathematical operations on arrays is straightforward. For instance, to convert the heights from centimeters to feet, knowing that 1 centimeter is equal to 0.0328084 feet, we can use multiplication:"
   ]
  },
  {
   "cell_type": "code",
   "execution_count": 43,
   "metadata": {},
   "outputs": [
    {
     "name": "stdout",
     "output_type": "stream",
     "text": [
      "[6.2007876 5.577428  6.2007876 5.3477692 6.0039372 5.6102364 6.069554\n",
      " 5.5118112 5.6758532 6.0039372 5.6758532 5.6758532 5.74147   5.8398952\n",
      " 6.0039372 6.3320212 5.8398952 5.6758532 5.7086616 6.0039372 6.0039372\n",
      " 5.905512  5.5118112 5.905512  5.577428  5.8398952 5.9711288 5.905512\n",
      " 6.0039372 5.8398952 5.9711288 6.1679792 5.74147   5.8727036 6.0039372\n",
      " 6.3320212 5.9711288 6.0039372 5.8070868 6.069554  6.1679792 6.1679792\n",
      " 5.9711288 6.069554  6.2664044]\n"
     ]
    }
   ],
   "source": [
    "print(height_age_arr[:,0]*0.0328084)"
   ]
  },
  {
   "attachments": {},
   "cell_type": "markdown",
   "metadata": {},
   "source": [
    "Other mathematical operations for **addition**, **subtraction**, **division** and **power** (+, -, /, **) work the same way on arrays."
   ]
  },
  {
   "attachments": {},
   "cell_type": "markdown",
   "metadata": {},
   "source": [
    "### Numpy Array Methods"
   ]
  },
  {
   "attachments": {},
   "cell_type": "markdown",
   "metadata": {},
   "source": [
    "In addition, there are several methods in numpy to perform more complex calculations on arrays. For example, the sum() method finds the sum of all the elements in an array:"
   ]
  },
  {
   "cell_type": "code",
   "execution_count": 44,
   "metadata": {},
   "outputs": [
    {
     "name": "stdout",
     "output_type": "stream",
     "text": [
      "10575\n"
     ]
    }
   ],
   "source": [
    "heights = [\n",
    "    189, 170, 189, 163, 183, 171, 185, 168, 173, 183, 173, 173, 175, 178, 183, 193, 178, 173, 174, 183, 183, 180,\n",
    "    168, 180, 170, 178, 182, 180, 183, 178, 182, 188, 175, 179, 183, 193, 182, 183, 177, 185, 188, 188, 182, 185, 191\n",
    "]\n",
    "ages = [\n",
    "    57, 61, 57, 57, 58, 57, 61, 54, 68, 51, 49, 64, 50, 48, 65, 52, 56, 46, 54, 49, 51, 47,\n",
    "    55, 55, 54, 42, 51, 56, 55, 51, 54, 51, 60, 62, 43, 55, 56, 61, 52, 69, 64, 46, 54, 47, 70\n",
    "]\n",
    "\n",
    "heights_arr = heights_arr.reshape((45,1))\n",
    "height_age_arr = np.hstack((heights_arr, ages_arr))\n",
    "\n",
    "print(height_age_arr.sum())"
   ]
  },
  {
   "attachments": {},
   "cell_type": "markdown",
   "metadata": {},
   "source": [
    "The sum of all heights and ages is 10575. **In order to sum all heights and sum all ages separately, we can specify axis=0 to calculate the sum across the rows**, that is, it computes the sum for each column, or column sum. On the other hand, to obtain the row sums specify axis=1. In this example, we want to calculate the total sum of heights and ages, respectively:"
   ]
  },
  {
   "cell_type": "code",
   "execution_count": 45,
   "metadata": {},
   "outputs": [
    {
     "name": "stdout",
     "output_type": "stream",
     "text": [
      "[8100 2475]\n"
     ]
    }
   ],
   "source": [
    "print(height_age_arr.sum(axis=0))"
   ]
  },
  {
   "attachments": {},
   "cell_type": "markdown",
   "metadata": {},
   "source": [
    "Other operations, such as `.min()`, `.max()`, `.mean()`, work in a similar way to `.sum()`."
   ]
  },
  {
   "attachments": {},
   "cell_type": "markdown",
   "metadata": {},
   "source": [
    "## Comparisons"
   ]
  },
  {
   "attachments": {},
   "cell_type": "markdown",
   "metadata": {},
   "source": [
    "We can use operations including `<`, `>`, `>=`, `<=`, and `==` to do so. For example, in the height_age_arr dataset, we might be interested in only those presidents who started their presidency younger than 55 years old."
   ]
  },
  {
   "cell_type": "code",
   "execution_count": 46,
   "metadata": {},
   "outputs": [
    {
     "name": "stdout",
     "output_type": "stream",
     "text": [
      "[False False False False False False False  True False  True  True False\n",
      "  True  True False  True False  True  True  True  True  True False False\n",
      "  True  True  True False False  True  True  True False False  True False\n",
      " False False  True False False  True  True  True False]\n"
     ]
    }
   ],
   "source": [
    "print(height_age_arr[:, 1] < 55)"
   ]
  },
  {
   "attachments": {},
   "cell_type": "markdown",
   "metadata": {},
   "source": [
    "To find out **how many rows satisfy the condition**, use `.sum`() on the resultant 1d boolean array, e.g., (height_age_arr[:, 1] == 51).sum(), to see that there were exactly five presidents who started the presidency at age 51. **True is treated as 1 and False as 0 in the sum**."
   ]
  },
  {
   "cell_type": "code",
   "execution_count": 47,
   "metadata": {},
   "outputs": [
    {
     "data": {
      "text/plain": [
       "5"
      ]
     },
     "execution_count": 47,
     "metadata": {},
     "output_type": "execute_result"
    }
   ],
   "source": [
    "(height_age_arr[:, 1] == 51).sum()"
   ]
  }
 ],
 "metadata": {
  "kernelspec": {
   "display_name": "Python 3",
   "language": "python",
   "name": "python3"
  },
  "language_info": {
   "codemirror_mode": {
    "name": "ipython",
    "version": 3
   },
   "file_extension": ".py",
   "mimetype": "text/x-python",
   "name": "python",
   "nbconvert_exporter": "python",
   "pygments_lexer": "ipython3",
   "version": "3.8.10"
  },
  "orig_nbformat": 4
 },
 "nbformat": 4,
 "nbformat_minor": 2
}
